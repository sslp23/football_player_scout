{
 "cells": [
  {
   "cell_type": "code",
   "execution_count": 3,
   "id": "valuable-princeton",
   "metadata": {},
   "outputs": [],
   "source": [
    "import matplotlib.pyplot as plt\n",
    "import numpy as np\n",
    "import pandas as pd\n",
    "from mplsoccer import Pitch, Sbopen, VerticalPitch\n",
    "import json"
   ]
  },
  {
   "cell_type": "code",
   "execution_count": 14,
   "id": "spiritual-seminar",
   "metadata": {},
   "outputs": [],
   "source": [
    "class DataHandler:\n",
    "    def __init__(self, country):\n",
    "        self.country = country\n",
    "        \n",
    "    def get_teams(self, team_info):\n",
    "        team_info = dict(team_info)\n",
    "        teams = list(team_info.keys())\n",
    "        return pd.Series([int(teams[0]),int(teams[1])])\n",
    "    \n",
    "    def shortNameRead(self, name):\n",
    "            dict_name = '{\"' + name + '\": 0}'\n",
    "\n",
    "\n",
    "            real_name = list(json.loads(dict_name, strict=False).keys())[0].replace(\"\\t\", \" \")\n",
    "            return real_name\n",
    "\n",
    "    def roleRead(self, role):\n",
    "        return role[\"name\"]\n",
    "\n",
    "    def load_data(self, country):\n",
    "        path_matches = f\"data_wyscout/matches/matches_{country}.json\"\n",
    "        path_events = f\"data_wyscout/events/events_{country}.json\"\n",
    "        matches = pd.read_json(path_matches)\n",
    "\n",
    "        matches[[\"home\", \"away\"]] = matches.apply(lambda x: self.get_teams(x[\"teamsData\"]), axis=1)\n",
    "        teams = pd.read_json(\"data_wyscout/teams.json\")\n",
    "        \n",
    "        matches = pd.merge(matches, teams[[\"wyId\", \"officialName\"]].set_index(\"wyId\"), left_on=\"home\", right_index=True)\n",
    "        matches = pd.merge(matches, teams[[\"wyId\", \"officialName\"]].set_index(\"wyId\"), left_on=\"away\", right_index=True, suffixes=[\"_home\", \"_away\"])\n",
    "        \n",
    "        events = pd.read_json(path_events)\n",
    "        events = pd.merge(events,  teams[[\"wyId\", \"officialName\"]].set_index(\"wyId\"), left_on=\"teamId\", right_index=True)\n",
    "        events = pd.merge(events, matches[[\"wyId\", 'officialName_home','officialName_away']].set_index(\"wyId\"), left_on=\"matchId\", right_index=True)\n",
    "        \n",
    "        players = pd.read_json(\"data_wyscout/players.json\")\n",
    "\n",
    "        players[\"roleName\"] = players.role.apply(lambda x: self.roleRead(x))    \n",
    "        players[\"shortName\"] = players.shortName.apply(lambda x: self.shortNameRead(x))\n",
    "        \n",
    "        events = pd.merge(events,  players[[\"wyId\", \"shortName\", \"roleName\"]].set_index(\"wyId\"), left_on=\"playerId\", right_index=True)\n",
    "        \n",
    "        return events, matches\n",
    "    \n",
    "    def save_data(self, how=\"Full\"):\n",
    "        events, matches = self.load_data(self.country)\n",
    "        \n",
    "        if how == \"Full\":\n",
    "            events.to_csv(f\"data_wyscout/{self.country}_17_18.csv\", index=False)\n",
    "            matches.to_csv(f\"data_wyscout/matches_{self.country}_17_18.csv\", index=False)\n",
    "        elif how == \"Events\":\n",
    "            events.to_csv(f\"data_wyscout/{self.country}_17_18.csv\", index=False)\n",
    "        elif how == \"Matches\":\n",
    "            matches.to_csv(f\"data_wyscout/matches_{self.country}_17_18.csv\", index=False)\n",
    "        else:\n",
    "            print(\"No data to save\")"
   ]
  },
  {
   "cell_type": "code",
   "execution_count": 9,
   "id": "ahead-taylor",
   "metadata": {},
   "outputs": [],
   "source": [
    "dth = DataHandler(\"England\")"
   ]
  },
  {
   "cell_type": "code",
   "execution_count": 11,
   "id": "blank-conference",
   "metadata": {},
   "outputs": [],
   "source": [
    "dth.save_data()"
   ]
  },
  {
   "cell_type": "code",
   "execution_count": 12,
   "id": "tired-choice",
   "metadata": {},
   "outputs": [],
   "source": [
    "dth = DataHandler(\"Spain\")"
   ]
  },
  {
   "cell_type": "code",
   "execution_count": 13,
   "id": "popular-comparative",
   "metadata": {},
   "outputs": [],
   "source": [
    "dth.save_data()"
   ]
  },
  {
   "cell_type": "code",
   "execution_count": null,
   "id": "furnished-closer",
   "metadata": {},
   "outputs": [],
   "source": []
  },
  {
   "cell_type": "code",
   "execution_count": null,
   "id": "departmental-potential",
   "metadata": {},
   "outputs": [],
   "source": []
  },
  {
   "cell_type": "code",
   "execution_count": null,
   "id": "weighted-invite",
   "metadata": {},
   "outputs": [],
   "source": []
  },
  {
   "cell_type": "code",
   "execution_count": null,
   "id": "continuing-import",
   "metadata": {},
   "outputs": [],
   "source": []
  }
 ],
 "metadata": {
  "kernelspec": {
   "display_name": "Python 3",
   "language": "python",
   "name": "python3"
  },
  "language_info": {
   "codemirror_mode": {
    "name": "ipython",
    "version": 3
   },
   "file_extension": ".py",
   "mimetype": "text/x-python",
   "name": "python",
   "nbconvert_exporter": "python",
   "pygments_lexer": "ipython3",
   "version": "3.7.6"
  }
 },
 "nbformat": 4,
 "nbformat_minor": 5
}
